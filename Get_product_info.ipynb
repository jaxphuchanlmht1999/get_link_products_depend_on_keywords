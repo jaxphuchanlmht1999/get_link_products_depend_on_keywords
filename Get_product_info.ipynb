{
 "cells": [
  {
   "cell_type": "code",
   "execution_count": 1,
   "metadata": {},
   "outputs": [],
   "source": [
    "from selenium import webdriver\n",
    "from selenium.webdriver.chrome.options import Options\n",
    "import time\n",
    "from time import sleep\n",
    "from selenium.webdriver.common.by import By\n",
    "import pandas as pd\n",
    "\n",
    "import re\n",
    "import json\n",
    "import requests\n",
    "from tqdm import tqdm\n",
    "from datetime import date"
   ]
  },
  {
   "cell_type": "code",
   "execution_count": 2,
   "metadata": {},
   "outputs": [
    {
     "name": "stderr",
     "output_type": "stream",
     "text": [
      "C:\\Users\\Admin\\AppData\\Local\\Temp\\ipykernel_12320\\2531624283.py:1: DeprecationWarning: executable_path has been deprecated, please pass in a Service object\n",
      "  driver = webdriver.Chrome(executable_path=r\"C:/Users/Admin/OneDrive_Quan/Máy tính/crawl_web_RA/chromedriver\")\n"
     ]
    }
   ],
   "source": [
    "driver = webdriver.Chrome(executable_path=r\"C:/Users/Admin/OneDrive_Quan/Máy tính/crawl_web_RA/chromedriver\")"
   ]
  },
  {
   "cell_type": "code",
   "execution_count": 3,
   "metadata": {},
   "outputs": [],
   "source": [
    "data = pd.read_csv('C:/Users/Admin/OneDrive_Quan/Máy tính/crawl_web_RA/20220819/LaRochePosay_Infomation.csv')"
   ]
  },
  {
   "cell_type": "code",
   "execution_count": 4,
   "metadata": {},
   "outputs": [],
   "source": [
    "total_link = data.Link.dropna()"
   ]
  },
  {
   "cell_type": "code",
   "execution_count": 5,
   "metadata": {},
   "outputs": [],
   "source": [
    "\"\"\"\n",
    "    Vì Category của Sendo nó hiển thị như thế này\n",
    "        [Sendo.vn/Sức Khỏe & Làm Đẹp/Trị liệu chuyên sâu da mặt/Điều trị, chăm sóc da mụn]\n",
    "    Nên hàm dưới đây sẽ đưa nó về theo format như dưới đấy\n",
    "        [Sendo.vn - Sức Khỏe & Làm Đẹp - Trị liệu chuyên sâu da mặt - Điều trị, chăm sóc da mụn]\n",
    "\"\"\"\n",
    "\n",
    "\n",
    "def get_category(driver):\n",
    "    list_category= driver.find_elements(by=By.XPATH, value='//span[@class=\"undefined d7e-4a1d04 d7e-b61d5e\"]')\n",
    "    category_detail = ''\n",
    "\n",
    "    for sub_category in list_category:\n",
    "        if(category_detail == ''):\n",
    "            category_detail = category_detail +  sub_category.text\n",
    "        else:\n",
    "            category_detail = category_detail + \" - \" + sub_category.text\n",
    "    return category_detail"
   ]
  },
  {
   "cell_type": "code",
   "execution_count": 8,
   "metadata": {},
   "outputs": [],
   "source": [
    "Product_ID = [] # Product_ID của sản phẩm\n",
    "Name = [] # Tên của sản phẩm\n",
    "Min_Sell_Price = [] # Giá thấp nhất của sản phẩm - sẽ cập nhật lại theo code của Henry hoặc Will\n",
    "Last_Crawl_Sell_Price = [] # Giá của sản phẩm hiện tại (sau khi crawl)\n",
    "Location = []  # Nơi bán sản phẩm\n",
    "Product_Link = [] # Link sản phẩm\n",
    "Min_Price_Crawl_Date = [] # Ngày crawl được giá nhỏ nhất\n",
    "Last_Crawl_Date = [] # Ngày crawl sản phẩm\n",
    "Regular_Price = [] # Giá mặc định khi chưa áp dụng khuyến mãi\n",
    "Rating_Score = [] # Điểm trung bình đánh giá của sản phẩm\n",
    "Rating_Count = [] # Số lần đánh giá sản phẩm\n",
    "Description = [] # Mô tả, chú thích sản phẩm\n",
    "Category = [] # Danh mục của sản phẩm - VD: Sendo.vn - Đồ điện gia dụng - Nồi điện, nồi cơm điện - Nồi cơm điện\n",
    "Sold = [] # Số sản phẩm đã bán được\n",
    "Shop_ID = [] # Shop ID"
   ]
  },
  {
   "cell_type": "code",
   "execution_count": null,
   "metadata": {},
   "outputs": [],
   "source": [
    "\"\"\"\n",
    "    biến n để check số lượng sản phẩm lấy được\n",
    "\"\"\"\n",
    "\n",
    "n = 1\n",
    "\n",
    "for _link in total_link:\n",
    "    driver.get(_link)\n",
    "    sleep(1)\n",
    "    \"\"\"\n",
    "        Create API Link\n",
    "    \"\"\"\n",
    "    _link_api_0 = str(_link).split(\"sendo.vn/\")\n",
    "    _link_api = _link_api_0[1].split(\".html?\")\n",
    "    _link_api = 'https://detail-api.sendo.vn/full/' + _link_api[0]\n",
    "    data = requests.get(\n",
    "        _link_api\n",
    "    ).json()\n",
    "    sleep(1)\n",
    "\n",
    "    _Product_ID = data['data']['id']\n",
    "    _Name = data['data']['name']\n",
    "    # Min_Sell_Price\n",
    "    _Last_Crawl_Sell_Price = data['data']['final_price']\n",
    "\n",
    "    try:\n",
    "        location_average_item = driver.find_element(by=By.XPATH, value='//span[@class=\"d7e-ed528f d7e-fde242 d7e-7ef9b0 d7e-b61d5e d7e-a58302\"]').text\n",
    "        if(\"|\" in location_average_item):\n",
    "            _Location = location_average_item.split('|')[0]\n",
    "        else:\n",
    "            _Location = location_average_item\n",
    "    except:\n",
    "        _Location = ''\n",
    "\n",
    "\n",
    "    _Product_Link = _link\n",
    "    # _Min_Price_Crawl_Date\n",
    "    _Last_Crawl_Date = date.today()\n",
    "    _Regular_Price = data['data']['price']\n",
    "\n",
    "    try:\n",
    "        _Rating_Score = driver.find_element(by=By.XPATH, value='//span[@class=\"d7e-ed528f d7e-fde242 d7e-7ef9b0 d7e-b61d5e d7e-a58302\"]').text.split(' ')[-2]\n",
    "    except:\n",
    "        _Rating_Score = ''\n",
    "    try:\n",
    "        _Rating_Count = re.findall('\\d+', driver.find_element(by=By.XPATH, value='//span[@class=\"_314-995483 d7e-d87aa1 d7e-b61d5e d7e-65390f\"]').text)[0]\n",
    "    except:\n",
    "        _Rating_Count = '0'\n",
    "\n",
    "    try:\n",
    "        _Description = driver.find_element(by=By.XPATH, value='//div[@class=\"d7e-9d72f3 d7e-e6ae34 e9f-847905\"]').text\n",
    "    except:\n",
    "        _Description = ''\n",
    "    _Category = get_category(driver)\n",
    "    try:\n",
    "        _Sold = re.findall('\\d+',(driver.find_element(by=By.XPATH, value='//span[@class=\"_314-13ea6b d7e-d87aa1 d7e-b61d5e d7e-a58302\"]').text))[0]\n",
    "    except:\n",
    "        _Sold = '0'\n",
    "    _Shop_id = data['data']['shop_info']['shop_id']\n",
    "\n",
    "    Product_ID.append(_Product_ID)\n",
    "    Name.append(_Name)\n",
    "    # Min_Sell_Price = [] # Gia Min cua san pham\n",
    "    Last_Crawl_Sell_Price.append(_Last_Crawl_Sell_Price)\n",
    "    Location.append(_Location)\n",
    "    Product_Link.append(_Product_Link)\n",
    "    # Min_Price_Crawl_Date = [] # Ngay crawl duoc gia nho nhat\n",
    "    Last_Crawl_Date.append(_Last_Crawl_Date)\n",
    "    Regular_Price.append(_Regular_Price)\n",
    "    Rating_Score.append(_Rating_Score)\n",
    "    Rating_Count.append(_Rating_Count)\n",
    "    Description.append(_Description)\n",
    "    Category.append(_Category)\n",
    "    Sold.append(_Sold)\n",
    "    Shop_ID.append(_Shop_id)\n",
    "\n",
    "    print('Da lay duoc san pham thu ' + str(n))\n",
    "    n += 1\n",
    "    #  print(check_Location)\n",
    "    print(_Location)\n",
    "    if(n == 20):\n",
    "        break"
   ]
  },
  {
   "cell_type": "code",
   "execution_count": 10,
   "metadata": {},
   "outputs": [],
   "source": [
    "df_output = pd.DataFrame(list(zip(Product_ID, Name, Last_Crawl_Sell_Price, Location\n",
    "                                    ,Product_Link, Last_Crawl_Date, Regular_Price, Rating_Score, Rating_Count,\n",
    "                                    Description, Category, Sold, Shop_ID)),\n",
    "               columns =['Product_ID', 'Name', 'Last_Crawl_Sell_Price', 'Location',\n",
    "               'Product_Link', 'Last_Crawl_Date', 'Regular_Price', 'Rating_Score', 'Rating_Count',\n",
    "                                    'Description', 'Category', 'Sold', 'Shop_ID'])"
   ]
  },
  {
   "cell_type": "code",
   "execution_count": 11,
   "metadata": {},
   "outputs": [],
   "source": [
    "df_output.to_excel('C:/Users/Admin/OneDrive_Quan/Máy tính/crawl_web_RA/20220819/Test_LA.xlsx')"
   ]
  }
 ],
 "metadata": {
  "kernelspec": {
   "display_name": "Python 3.10.4 64-bit",
   "language": "python",
   "name": "python3"
  },
  "language_info": {
   "codemirror_mode": {
    "name": "ipython",
    "version": 3
   },
   "file_extension": ".py",
   "mimetype": "text/x-python",
   "name": "python",
   "nbconvert_exporter": "python",
   "pygments_lexer": "ipython3",
   "version": "3.10.4"
  },
  "orig_nbformat": 4,
  "vscode": {
   "interpreter": {
    "hash": "a42ccb73e7d9bfdf27e036f1d2b8b681e55fc0743cc5586bc2474d4a60f4b886"
   }
  }
 },
 "nbformat": 4,
 "nbformat_minor": 2
}
