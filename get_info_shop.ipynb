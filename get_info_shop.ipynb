{
 "cells": [
  {
   "cell_type": "code",
   "execution_count": 90,
   "metadata": {},
   "outputs": [],
   "source": [
    "import pandas as pd\n",
    "\n",
    "# -- Selenium --\n",
    "from selenium import webdriver\n",
    "from selenium.webdriver.chrome.options import Options\n",
    "import time\n",
    "from time import sleep\n",
    "from selenium.webdriver.common.by import By\n",
    "from selenium.common.exceptions import TimeoutException\n",
    "\n",
    "\n",
    "# -- API --\n",
    "import re\n",
    "import json\n",
    "import requests\n",
    "from tqdm import tqdm\n",
    "\n",
    "# Get today\n",
    "from datetime import date\n",
    "\n",
    "# Check time\n",
    "from tqdm import tqdm"
   ]
  },
  {
   "cell_type": "code",
   "execution_count": 91,
   "metadata": {},
   "outputs": [],
   "source": [
    "link_shops = pd.read_csv('C:/Users/Admin/OneDrive_Quan/Máy tính/crawl_web_RA/20220824_sendo/sendo_recrawl_20220829/Link_shop_sendo.csv')\n"
   ]
  },
  {
   "cell_type": "code",
   "execution_count": 92,
   "metadata": {},
   "outputs": [],
   "source": [
    "link_shops = link_shops.shop_url"
   ]
  },
  {
   "cell_type": "code",
   "execution_count": 94,
   "metadata": {},
   "outputs": [],
   "source": [
    "def get_mail(driver):\n",
    "    email = ''\n",
    "    Xpaths = driver.find_elements(by=By.XPATH, value='//div[@class=\"panelHeading_3tNo custom1_1mgl\"]')\n",
    "    for xpath in Xpaths:\n",
    "        if('Email' in xpath.text):\n",
    "            email = email +  xpath.text.split('\\n')[1]\n",
    "\n",
    "    return email\n",
    "\n",
    "def get_phone_number(driver):\n",
    "    phone_number = ''\n",
    "    Xpaths = driver.find_elements(by=By.XPATH, value='//div[@class=\"panelHeading_3tNo custom1_1mgl\"]')\n",
    "    for xpath in Xpaths:\n",
    "        if('Điện thoại' in xpath.text):\n",
    "            phone_number = phone_number + xpath.text.split('\\n')[1]\n",
    "\n",
    "    return phone_number\n",
    "\n",
    "def get_website(driver):\n",
    "    website = ''\n",
    "    Xpaths = driver.find_elements(by=By.XPATH, value='//div[@class=\"panelHeading_3tNo custom1_1mgl\"]')\n",
    "    for xpath in Xpaths:\n",
    "        if('Website' in xpath.text):\n",
    "            website = website + xpath.text.split('\\n')[1]\n",
    "\n",
    "    return website\n",
    "\n",
    "def get_response_rate(driver):\n",
    "    Xpaths = driver.find_elements(by=By.XPATH, value='//div[@class=\"shop-info-block-item_1giu d7e-a90f22 d7e-57f266 d7e-6f98d6 d7e-f6de6c\"]')\n",
    "    response_rate = ''\n",
    "    for xpath in Xpaths:\n",
    "        if('Tỉ lệ phản hồi' in xpath.text):\n",
    "            response_rate = response_rate + xpath.text.split('\\n')[0]\n",
    "    return response_rate\n",
    "\n",
    "def get_num_of_product(driver):\n",
    "    Xpaths = driver.find_elements(by=By.XPATH, value='//div[@class=\"shop-info-block-item_1giu d7e-a90f22 d7e-57f266 d7e-6f98d6 d7e-f6de6c\"]')\n",
    "    num_of_product = ''\n",
    "    for xpath in Xpaths:\n",
    "        if('Sản phẩm' in xpath.text):\n",
    "            num_of_product = num_of_product+ xpath.text.split('\\n')[0]\n",
    "    return num_of_product\n",
    "\n",
    "def get_location(driver):\n",
    "    location = ''\n",
    "    Xpaths = driver.find_elements(by=By.XPATH, value='//div[@class=\"panelHeading_3tNo custom1_1mgl\"]')\n",
    "    for xpath in Xpaths:\n",
    "        if('Địa chỉ' in xpath.text):\n",
    "            location = location + xpath.text.split('\\n')[1]\n",
    "\n",
    "    return location\n",
    "\n",
    "def get_type_shop(driver):\n",
    "    type_shop = []\n",
    "\n",
    "    Xpath_check_type_shop_plus = driver.find_elements(by=By.XPATH, value='//div[@class=\"shop-summary-info__shop-type_3-dJ\"]/img')\n",
    "    if(len(Xpath_check_type_shop_plus) != 0):\n",
    "        for type_shop_plus in Xpath_check_type_shop_plus:\n",
    "            type_shop.append(type_shop_plus.get_attribute('src'))\n",
    "\n",
    "    Xpath_check_type_shop_mall = driver.find_elements(by=By.XPATH, value='//div[@class=\"shop-summary-info__shop-type_3-dJ\"]/div')\n",
    "    if(len(Xpath_check_type_shop_mall) != 0):\n",
    "        for type_shop_mall in Xpath_check_type_shop_mall:\n",
    "            type_shop.append(type_shop_mall.get_attribute('class'))\n",
    "\n",
    "    return type_shop"
   ]
  },
  {
   "cell_type": "code",
   "execution_count": 102,
   "metadata": {},
   "outputs": [],
   "source": [
    "def startCrawl(product_links, list_product):\n",
    "    driver = webdriver.Chrome(executable_path=r\"C:/Users/Admin/OneDrive_Quan/Máy tính/crawl_web_RA/chromedriver/chromedriver\")\n",
    "\n",
    "    for link_shop in link_shops[100:]:\n",
    "        try:\n",
    "            try:\n",
    "                driver.set_page_load_timeout(10)\n",
    "\n",
    "                Product_Infos = {}\n",
    "\n",
    "                driver.get(link_shop + '/thong-tin-shop')\n",
    "                driver.execute_script(\"window.scrollTo(0, document.body.scrollHeight);\")\n",
    "                sleep(0.5)\n",
    "                driver.execute_script(\"window.scrollTo(0, document.body.scrollHeight);\")\n",
    "                sleep(2)\n",
    "\n",
    "                Product_Infos['shop_url'] = link_shop\n",
    "                if(len(driver.find_elements(by=By.XPATH, value='//span[@class=\"d7e-ed528f d7e-fde242 d7e-266ced d7e-fb1c84 undefined\"]')) != 0):\n",
    "                    Product_Infos['shop_name'] = driver.find_element(by=By.XPATH, value='//span[@class=\"d7e-ed528f d7e-fde242 d7e-266ced d7e-fb1c84 undefined\"]').text\n",
    "                else:\n",
    "                    continue\n",
    "\n",
    "                try:\n",
    "                    Product_Infos['type_shop'] = get_type_shop(driver)\n",
    "                except:\n",
    "                    Product_Infos['type_shop'] = ''\n",
    "\n",
    "                try:\n",
    "                    Product_Infos['response_rate'] = get_response_rate(driver)\n",
    "                except:\n",
    "                    Product_Infos['response_rate'] = ''\n",
    "\n",
    "                if(len(driver.find_elements(by=By.XPATH, value='//div[@class=\"panelHeading_3tNo custom1_1mgl\"]')) != 0):\n",
    "                    Product_Infos['joined_time'] = driver.find_element(by=By.XPATH, value='//div[@class=\"panelHeading_3tNo custom1_1mgl\"]').text.split('\\n')[1]\n",
    "                else:\n",
    "                    pass\n",
    "\n",
    "                try:\n",
    "                    Product_Infos['mail'] = get_mail(driver)\n",
    "                    Product_Infos['phone_number'] = get_phone_number(driver)\n",
    "                except:\n",
    "                    Product_Infos['mail'] = ''\n",
    "                    Product_Infos['phone_number'] = ''\n",
    "\n",
    "                if(len(driver.find_elements(by=By.XPATH, value='//div[@class=\"slogan_3Zay\"]')) != 0):\n",
    "                    Product_Infos['description'] = driver.find_element(by=By.XPATH, value='//div[@class=\"slogan_3Zay\"]').text\n",
    "                else:\n",
    "                    pass\n",
    "\n",
    "                try:\n",
    "                    Product_Infos['website'] = get_website(driver)\n",
    "                except:\n",
    "                    Product_Infos['website'] = ''\n",
    "\n",
    "                if(len(driver.find_elements(by=By.XPATH, value='//span[@class=\"shop-rating__rating-number_3Uza d7e-d87aa1 d7e-fb1c84 d7e-a4f628\"]')) != 0):\n",
    "                    Product_Infos['avg_rating'] = driver.find_element(by=By.XPATH, value='//span[@class=\"shop-rating__rating-number_3Uza d7e-d87aa1 d7e-fb1c84 d7e-a4f628\"]').text\n",
    "                else:\n",
    "                    pass\n",
    "\n",
    "                if(len(driver.find_elements(by=By.XPATH, value='//span[@class=\"shop-rating__vote_3YoG undefined d7e-d87aa1 d7e-a58302\"]')) != 0):\n",
    "                    Product_Infos['total_rating_count'] = driver.find_element(by=By.XPATH, value='//span[@class=\"shop-rating__vote_3YoG undefined d7e-d87aa1 d7e-a58302\"]').text[1:-1]\n",
    "                else:\n",
    "                    pass\n",
    "\n",
    "                Product_Infos['platform'] = 'sendo'\n",
    "\n",
    "                try:\n",
    "                    Product_Infos['num_of_product'] = get_num_of_product(driver)\n",
    "                except:\n",
    "                    pass\n",
    "\n",
    "                try:\n",
    "                    Product_Infos['location'] = get_location(driver)\n",
    "                except:\n",
    "                    pass\n",
    "\n",
    "                list_product.append(Product_Infos)\n",
    "                print(len(list_product))\n",
    "                sleep(0.5)\n",
    "\n",
    "            except TimeoutException:\n",
    "                print('time out')\n",
    "                continue\n",
    "        except:\n",
    "            continue\n"
   ]
  },
  {
   "cell_type": "code",
   "execution_count": 103,
   "metadata": {},
   "outputs": [],
   "source": [
    "import threading\n",
    "import numpy as np\n",
    "\n",
    "list_threads = []\n",
    "list_product = []\n",
    "num_thread = 3\n",
    "list_partitions = [partition for partition in np.array_split(link_shops, num_thread)]\n",
    "for partition_list in list_partitions:\n",
    "    list_threads.append(threading.Thread(target=startCrawl, args=(partition_list, list_product)))"
   ]
  },
  {
   "cell_type": "code",
   "execution_count": null,
   "metadata": {},
   "outputs": [],
   "source": [
    "for thread in list_threads:\n",
    "    thread.start()\n",
    "    time.sleep(5)"
   ]
  },
  {
   "cell_type": "code",
   "execution_count": null,
   "metadata": {},
   "outputs": [],
   "source": [
    "for thread in list_threads:\n",
    "    thread.join()"
   ]
  },
  {
   "cell_type": "code",
   "execution_count": 106,
   "metadata": {},
   "outputs": [
    {
     "data": {
      "text/plain": [
       "48"
      ]
     },
     "execution_count": 106,
     "metadata": {},
     "output_type": "execute_result"
    }
   ],
   "source": [
    "len(list_product)"
   ]
  },
  {
   "cell_type": "code",
   "execution_count": 107,
   "metadata": {},
   "outputs": [],
   "source": [
    "pd.DataFrame(list_product).to_csv('C:/Users/Admin/OneDrive_Quan/Máy tính/crawl_web_RA/20220824_sendo/sendo_recrawl_20220829/shop_info_100__0.csv', index=False)"
   ]
  }
 ],
 "metadata": {
  "kernelspec": {
   "display_name": "Python 3.10.4 64-bit",
   "language": "python",
   "name": "python3"
  },
  "language_info": {
   "codemirror_mode": {
    "name": "ipython",
    "version": 3
   },
   "file_extension": ".py",
   "mimetype": "text/x-python",
   "name": "python",
   "nbconvert_exporter": "python",
   "pygments_lexer": "ipython3",
   "version": "3.10.4"
  },
  "orig_nbformat": 4,
  "vscode": {
   "interpreter": {
    "hash": "a42ccb73e7d9bfdf27e036f1d2b8b681e55fc0743cc5586bc2474d4a60f4b886"
   }
  }
 },
 "nbformat": 4,
 "nbformat_minor": 2
}
