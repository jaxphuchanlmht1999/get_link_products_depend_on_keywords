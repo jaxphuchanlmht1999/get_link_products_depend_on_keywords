{
 "cells": [
  {
   "cell_type": "code",
   "execution_count": 33,
   "metadata": {},
   "outputs": [],
   "source": [
    "import pandas as pd\n",
    "\n",
    "# -- Selenium --\n",
    "from selenium import webdriver\n",
    "from selenium.webdriver.chrome.options import Options\n",
    "import time\n",
    "from time import sleep\n",
    "from selenium.webdriver.common.by import By\n",
    "\n",
    "\n",
    "# -- API --\n",
    "import re\n",
    "import json\n",
    "import requests\n",
    "from tqdm import tqdm\n",
    "\n",
    "# Get today\n",
    "from datetime import date\n",
    "\n",
    "# Check time\n",
    "from tqdm import tqdm"
   ]
  },
  {
   "cell_type": "code",
   "execution_count": 34,
   "metadata": {},
   "outputs": [
    {
     "name": "stderr",
     "output_type": "stream",
     "text": [
      "C:\\Users\\Admin\\AppData\\Local\\Temp\\ipykernel_19036\\2531624283.py:1: DeprecationWarning: executable_path has been deprecated, please pass in a Service object\n",
      "  driver = webdriver.Chrome(executable_path=r\"C:/Users/Admin/OneDrive_Quan/Máy tính/crawl_web_RA/chromedriver\")\n"
     ]
    }
   ],
   "source": [
    "driver = webdriver.Chrome(executable_path=r\"C:/Users/Admin/OneDrive_Quan/Máy tính/crawl_web_RA/chromedriver\")"
   ]
  },
  {
   "cell_type": "code",
   "execution_count": 35,
   "metadata": {},
   "outputs": [
    {
     "data": {
      "text/plain": [
       "' \\n1. https://www.sendo.vn/tim-kiem?q=La%20Roche%20Posay%20Anthelios%20Dry%20Touch%20Gel%20Cream\\n2. https://www.sendo.vn/tim-kiem?q=La%20Roche%20Posay%20Anthelios%20UVMune\\n3. https://www.sendo.vn/tim-kiem?q=La%20Roche%20Posay%20Micellar%20Water%20Ultra%20Sensitive%20Skin\\n4. https://www.sendo.vn/tim-kiem?q=Huxley%20Scrub%20Mask%20Sweet%20Therapy\\n5. https://www.sendo.vn/tim-kiem?q=Huxley%20Cream%20Fresh%20And%20More\\n6. https://www.sendo.vn/tim-kiem?q=Tesori%20Oriente%20S%E1%BB%AFa%20t%E1%BA%AFm%20h%C6%B0%C6%A1ng%20n%C6%B0%E1%BB%9Bc%20hoa\\n7. https://www.sendo.vn/tim-kiem?q=Halio%20Ion%20Hot%20Cool%20Beauty%20Device\\n8. https://www.sendo.vn/tim-kiem?q=Dove%20Exfoliating%20Body%20Polish%20Scrub   \\n9. https://www.sendo.vn/tim-kiem?q=Klairs%20Freshly%20Juiced%20Vitamin%20Drop\\n10. https://www.sendo.vn/tim-kiem?q=SVR%20Sebiaclear%20Gel%20Moussant\\n'"
      ]
     },
     "execution_count": 35,
     "metadata": {},
     "output_type": "execute_result"
    }
   ],
   "source": [
    "\"\"\" \n",
    "1. https://www.sendo.vn/tim-kiem?q=La%20Roche%20Posay%20Anthelios%20Dry%20Touch%20Gel%20Cream\n",
    "2. https://www.sendo.vn/tim-kiem?q=La%20Roche%20Posay%20Anthelios%20UVMune\n",
    "3. https://www.sendo.vn/tim-kiem?q=La%20Roche%20Posay%20Micellar%20Water%20Ultra%20Sensitive%20Skin\n",
    "4. https://www.sendo.vn/tim-kiem?q=Huxley%20Scrub%20Mask%20Sweet%20Therapy\n",
    "5. https://www.sendo.vn/tim-kiem?q=Huxley%20Cream%20Fresh%20And%20More\n",
    "6. https://www.sendo.vn/tim-kiem?q=Tesori%20Oriente%20S%E1%BB%AFa%20t%E1%BA%AFm%20h%C6%B0%C6%A1ng%20n%C6%B0%E1%BB%9Bc%20hoa\n",
    "7. https://www.sendo.vn/tim-kiem?q=Halio%20Ion%20Hot%20Cool%20Beauty%20Device\n",
    "8. https://www.sendo.vn/tim-kiem?q=Dove%20Exfoliating%20Body%20Polish%20Scrub   \n",
    "9. https://www.sendo.vn/tim-kiem?q=Klairs%20Freshly%20Juiced%20Vitamin%20Drop\n",
    "10. https://www.sendo.vn/tim-kiem?q=SVR%20Sebiaclear%20Gel%20Moussant\n",
    "\"\"\""
   ]
  },
  {
   "cell_type": "code",
   "execution_count": 36,
   "metadata": {},
   "outputs": [],
   "source": [
    "product_links = []\n",
    "locations = []"
   ]
  },
  {
   "cell_type": "code",
   "execution_count": 37,
   "metadata": {},
   "outputs": [],
   "source": [
    "link_keyword = [\n",
    "    'https://www.sendo.vn/tim-kiem?q=La%20Roche%20Posay%20Anthelios%20Dry%20Touch%20Gel%20Cream',\n",
    "'https://www.sendo.vn/tim-kiem?q=La%20Roche%20Posay%20Anthelios%20UVMune',\n",
    "'https://www.sendo.vn/tim-kiem?q=La%20Roche%20Posay%20Micellar%20Water%20Ultra%20Sensitive%20Skin',\n",
    "'https://www.sendo.vn/tim-kiem?q=Huxley%20Scrub%20Mask%20Sweet%20Therapy',\n",
    "'https://www.sendo.vn/tim-kiem?q=Huxley%20Cream%20Fresh%20And%20More',\n",
    "'https://www.sendo.vn/tim-kiem?q=Tesori%20Oriente%20S%E1%BB%AFa%20t%E1%BA%AFm%20h%C6%B0%C6%A1ng%20n%C6%B0%E1%BB%9Bc%20hoa',\n",
    "'https://www.sendo.vn/tim-kiem?q=Halio%20Ion%20Hot%20Cool%20Beauty%20Device',\n",
    "'https://www.sendo.vn/tim-kiem?q=Dove%20Exfoliating%20Body%20Polish%20Scrub',\n",
    "'https://www.sendo.vn/tim-kiem?q=Klairs%20Freshly%20Juiced%20Vitamin%20Drop',\n",
    "'https://www.sendo.vn/tim-kiem?q=SVR%20Sebiaclear%20Gel%20Moussant'\n",
    "]"
   ]
  },
  {
   "cell_type": "code",
   "execution_count": null,
   "metadata": {},
   "outputs": [],
   "source": [
    "for i in tqdm(range(len(link_keyword))):\n",
    "    driver.get(link_keyword[i])\n",
    "    sleep(3)\n",
    "\n",
    "    driver.execute_script(\"window.scrollTo(0, document.body.scrollHeight);\")\n",
    "    sleep(3)\n",
    "\n",
    "    # Check continue-button\n",
    "    while(len(driver.find_elements(by=By.XPATH, value='//button[@class=\"d7e-aa34b6 d7e-1b9468 d7e-489c49 d7e-f99ea6 d7e-dc4b7b\"]')) == 1):\n",
    "        driver.execute_script(\"window.scrollTo(0, document.body.scrollHeight);\")\n",
    "        button_continue = driver.find_element(by=By.XPATH, value='//button[@class=\"d7e-aa34b6 d7e-1b9468 d7e-489c49 d7e-f99ea6 d7e-dc4b7b\"]')\n",
    "        button_continue.click()\n",
    "        driver.execute_script(\"window.scrollTo(0, document.body.scrollHeight);\")\n",
    "        sleep(3)\n",
    "\n",
    "    # Get link products\n",
    "    Xpath_links = driver.find_elements(by=By.XPATH, value='//div[@class=\"d7e-f7453d d7e-57f266\"]/a')\n",
    "    for Xpath_link in Xpath_links:\n",
    "        product_links.append(Xpath_link.get_attribute('href'))\n",
    "\n",
    "    sleep(1)\n",
    "\n",
    "    # Get location products\n",
    "    Xpath_locations = driver.find_elements(by=By.XPATH, value='//div[@class=\"d7e-faee4b _405-a4dd8d _405-344c14 d7e-a90f22\"]/span[@class=\"undefined d7e-d87aa1\"]')\n",
    "    for Xpath_location in Xpath_locations:\n",
    "        locations.append(Xpath_location.text)\n",
    "\n",
    "    sleep(1)\n",
    "\n",
    "    print('So link san pham lay duoc la: ' + str(len(product_links)))\n",
    "    print('So luong noi ban lay duoc la: ' + str(len(locations)))"
   ]
  },
  {
   "cell_type": "code",
   "execution_count": null,
   "metadata": {},
   "outputs": [],
   "source": [
    "import pandas as pd\n",
    "\n",
    "df_output = pd.DataFrame(list(zip(product_links, locations)),\n",
    "               columns =['product_links', 'locations'])\n",
    "\n",
    "df_output['Date'] = date.today()"
   ]
  },
  {
   "cell_type": "code",
   "execution_count": null,
   "metadata": {},
   "outputs": [
    {
     "data": {
      "text/html": [
       "<div>\n",
       "<style scoped>\n",
       "    .dataframe tbody tr th:only-of-type {\n",
       "        vertical-align: middle;\n",
       "    }\n",
       "\n",
       "    .dataframe tbody tr th {\n",
       "        vertical-align: top;\n",
       "    }\n",
       "\n",
       "    .dataframe thead th {\n",
       "        text-align: right;\n",
       "    }\n",
       "</style>\n",
       "<table border=\"1\" class=\"dataframe\">\n",
       "  <thead>\n",
       "    <tr style=\"text-align: right;\">\n",
       "      <th></th>\n",
       "      <th>product_links</th>\n",
       "      <th>locations</th>\n",
       "      <th>Date</th>\n",
       "    </tr>\n",
       "  </thead>\n",
       "  <tbody>\n",
       "    <tr>\n",
       "      <th>5198</th>\n",
       "      <td>https://www.sendo.vn/nuoc-lam-sach-sau-va-tay-...</td>\n",
       "      <td>HN</td>\n",
       "      <td>2022-08-25</td>\n",
       "    </tr>\n",
       "    <tr>\n",
       "      <th>6027</th>\n",
       "      <td>https://www.sendo.vn/mat-na-tay-te-bao-chet-ch...</td>\n",
       "      <td>TP.HCM</td>\n",
       "      <td>2022-08-25</td>\n",
       "    </tr>\n",
       "    <tr>\n",
       "      <th>3675</th>\n",
       "      <td>https://www.sendo.vn/xit-khoang-la-roche-posay...</td>\n",
       "      <td>Huế</td>\n",
       "      <td>2022-08-25</td>\n",
       "    </tr>\n",
       "    <tr>\n",
       "      <th>5541</th>\n",
       "      <td>https://www.sendo.vn/nuoc-can-bang-la-roche-po...</td>\n",
       "      <td>HN</td>\n",
       "      <td>2022-08-25</td>\n",
       "    </tr>\n",
       "    <tr>\n",
       "      <th>9628</th>\n",
       "      <td>https://www.sendo.vn/nuoc-tay-trang-svr-sebiac...</td>\n",
       "      <td>HN</td>\n",
       "      <td>2022-08-25</td>\n",
       "    </tr>\n",
       "  </tbody>\n",
       "</table>\n",
       "</div>"
      ],
      "text/plain": [
       "                                          product_links locations        Date\n",
       "5198  https://www.sendo.vn/nuoc-lam-sach-sau-va-tay-...        HN  2022-08-25\n",
       "6027  https://www.sendo.vn/mat-na-tay-te-bao-chet-ch...    TP.HCM  2022-08-25\n",
       "3675  https://www.sendo.vn/xit-khoang-la-roche-posay...       Huế  2022-08-25\n",
       "5541  https://www.sendo.vn/nuoc-can-bang-la-roche-po...        HN  2022-08-25\n",
       "9628  https://www.sendo.vn/nuoc-tay-trang-svr-sebiac...        HN  2022-08-25"
      ]
     },
     "execution_count": 31,
     "metadata": {},
     "output_type": "execute_result"
    }
   ],
   "source": [
    "df_output.sample(5)"
   ]
  },
  {
   "cell_type": "code",
   "execution_count": null,
   "metadata": {},
   "outputs": [],
   "source": [
    "df_output.to_excel('')"
   ]
  }
 ],
 "metadata": {
  "kernelspec": {
   "display_name": "Python 3.10.4 64-bit",
   "language": "python",
   "name": "python3"
  },
  "language_info": {
   "codemirror_mode": {
    "name": "ipython",
    "version": 3
   },
   "file_extension": ".py",
   "mimetype": "text/x-python",
   "name": "python",
   "nbconvert_exporter": "python",
   "pygments_lexer": "ipython3",
   "version": "3.10.4"
  },
  "orig_nbformat": 4,
  "vscode": {
   "interpreter": {
    "hash": "a42ccb73e7d9bfdf27e036f1d2b8b681e55fc0743cc5586bc2474d4a60f4b886"
   }
  }
 },
 "nbformat": 4,
 "nbformat_minor": 2
}
